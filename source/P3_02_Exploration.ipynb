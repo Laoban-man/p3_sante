{
 "cells": [
  {
   "cell_type": "markdown",
   "id": "aacd95ea-2c2e-405a-b2bc-52001997c1b6",
   "metadata": {},
   "source": [
    "# Presentation du cas"
   ]
  },
  {
   "cell_type": "markdown",
   "id": "dd69ee36-61e9-4315-9675-81db0f7793b5",
   "metadata": {},
   "source": []
  },
  {
   "cell_type": "markdown",
   "id": "5a867ae8-785d-4516-8153-3787807900e5",
   "metadata": {},
   "source": [
    "# Import librairies"
   ]
  },
  {
   "cell_type": "code",
   "execution_count": 1,
   "id": "7929e9e3-0216-4b51-a0f4-a00c1c14351c",
   "metadata": {},
   "outputs": [],
   "source": [
    "import pandas as pd\n",
    "import numpy as np\n",
    "import os\n",
    "import sys\n",
    "import tqdm as tqdm\n",
    "import glob\n",
    "import string\n",
    "import matplotlib.pyplot as plt\n",
    "from scipy.stats import rankdata\n",
    "import warnings\n",
    "warnings.filterwarnings('ignore')"
   ]
  },
  {
   "cell_type": "markdown",
   "id": "b882d73f-fd40-4688-a1c5-adede31e6095",
   "metadata": {},
   "source": [
    "# Telechargements donnees"
   ]
  }
 ],
 "metadata": {
  "kernelspec": {
   "display_name": "Python 3",
   "language": "python",
   "name": "python3"
  },
  "language_info": {
   "codemirror_mode": {
    "name": "ipython",
    "version": 3
   },
   "file_extension": ".py",
   "mimetype": "text/x-python",
   "name": "python",
   "nbconvert_exporter": "python",
   "pygments_lexer": "ipython3",
   "version": "3.7.6"
  }
 },
 "nbformat": 4,
 "nbformat_minor": 5
}
