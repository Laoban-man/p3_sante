{
 "cells": [
  {
   "cell_type": "markdown",
   "id": "aacd95ea-2c2e-405a-b2bc-52001997c1b6",
   "metadata": {},
   "source": [
    "# Presentation du cas"
   ]
  },
  {
   "cell_type": "markdown",
   "id": "dd69ee36-61e9-4315-9675-81db0f7793b5",
   "metadata": {},
   "source": []
  },
  {
   "cell_type": "markdown",
   "id": "5a867ae8-785d-4516-8153-3787807900e5",
   "metadata": {},
   "source": [
    "# Import librairies"
   ]
  },
  {
   "cell_type": "code",
   "execution_count": 2,
   "id": "7929e9e3-0216-4b51-a0f4-a00c1c14351c",
   "metadata": {},
   "outputs": [],
   "source": [
    "import pandas as pd\n",
    "import numpy as np\n",
    "import os\n",
    "import sys\n",
    "import tqdm as tqdm\n",
    "import glob\n",
    "import string\n",
    "import matplotlib.pyplot as plt\n",
    "from scipy.stats import rankdata\n",
    "import warnings\n",
    "from pandas_profiling import ProfileReport\n",
    "warnings.filterwarnings('ignore')"
   ]
  },
  {
   "cell_type": "markdown",
   "id": "b882d73f-fd40-4688-a1c5-adede31e6095",
   "metadata": {},
   "source": [
    "# Telechargements donnees"
   ]
  },
  {
   "cell_type": "code",
   "execution_count": 3,
   "id": "20c4de12-ea0f-4816-9b3d-560cc940987e",
   "metadata": {},
   "outputs": [
    {
     "name": "stdout",
     "output_type": "stream",
     "text": [
      "<class 'pandas.core.frame.DataFrame'>\n",
      "RangeIndex: 9937 entries, 0 to 9936\n",
      "Columns: 174 entries, code to carnitine_100g\n",
      "dtypes: float64(123), int64(3), object(48)\n",
      "memory usage: 13.2+ MB\n"
     ]
    }
   ],
   "source": [
    "data=pd.read_csv(\"../../data/sante/openfoodfacts_search.csv\")\n",
    "data.info()"
   ]
  },
  {
   "cell_type": "markdown",
   "id": "cdb03d36-b2e4-4d1b-98bb-b7ae97b5beb4",
   "metadata": {},
   "source": [
    "# Data exploration"
   ]
  },
  {
   "cell_type": "code",
   "execution_count": null,
   "id": "3511a603-a5f0-4881-a39d-55e750191046",
   "metadata": {},
   "outputs": [
    {
     "data": {
      "application/vnd.jupyter.widget-view+json": {
       "model_id": "51efdbf0c36a4debb10bbcf000146616",
       "version_major": 2,
       "version_minor": 0
      },
      "text/plain": [
       "Summarize dataset:   0%|          | 0/187 [00:00<?, ?it/s]"
      ]
     },
     "metadata": {},
     "output_type": "display_data"
    }
   ],
   "source": [
    "profile = ProfileReport(data, title=\"Data exploration summary\")\n",
    "profile.to_widgets()"
   ]
  }
 ],
 "metadata": {
  "kernelspec": {
   "display_name": "Python 3",
   "language": "python",
   "name": "python3"
  },
  "language_info": {
   "codemirror_mode": {
    "name": "ipython",
    "version": 3
   },
   "file_extension": ".py",
   "mimetype": "text/x-python",
   "name": "python",
   "nbconvert_exporter": "python",
   "pygments_lexer": "ipython3",
   "version": "3.7.6"
  }
 },
 "nbformat": 4,
 "nbformat_minor": 5
}
