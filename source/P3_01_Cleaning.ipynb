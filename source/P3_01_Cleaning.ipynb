{
 "cells": [
  {
   "cell_type": "markdown",
   "id": "aacd95ea-2c2e-405a-b2bc-52001997c1b6",
   "metadata": {},
   "source": [
    "# Presentation du cas"
   ]
  },
  {
   "cell_type": "markdown",
   "id": "dd69ee36-61e9-4315-9675-81db0f7793b5",
   "metadata": {},
   "source": []
  },
  {
   "cell_type": "markdown",
   "id": "5a867ae8-785d-4516-8153-3787807900e5",
   "metadata": {},
   "source": [
    "# Import librairies"
   ]
  },
  {
   "cell_type": "code",
   "execution_count": 5,
   "id": "7929e9e3-0216-4b51-a0f4-a00c1c14351c",
   "metadata": {},
   "outputs": [],
   "source": [
    "import pandas as pd\n",
    "import numpy as np\n",
    "import os\n",
    "import sys\n",
    "import tqdm as tqdm\n",
    "import glob\n",
    "import string\n",
    "import matplotlib.pyplot as plt\n",
    "from scipy.stats import rankdata\n",
    "import warnings\n",
    "from pandas_profiling import ProfileReport\n",
    "from sklearn.impute import KNNImputer\n",
    "warnings.filterwarnings('ignore')"
   ]
  },
  {
   "cell_type": "markdown",
   "id": "b882d73f-fd40-4688-a1c5-adede31e6095",
   "metadata": {},
   "source": [
    "# Telechargements donnees"
   ]
  },
  {
   "cell_type": "code",
   "execution_count": 6,
   "id": "20c4de12-ea0f-4816-9b3d-560cc940987e",
   "metadata": {},
   "outputs": [
    {
     "name": "stdout",
     "output_type": "stream",
     "text": [
      "<class 'pandas.core.frame.DataFrame'>\n",
      "RangeIndex: 9937 entries, 0 to 9936\n",
      "Columns: 174 entries, code to carnitine_100g\n",
      "dtypes: float64(123), int64(3), object(48)\n",
      "memory usage: 13.2+ MB\n"
     ]
    }
   ],
   "source": [
    "data=pd.read_csv(\"../../data/sante/openfoodfacts_search.csv\")\n",
    "data.info()"
   ]
  },
  {
   "cell_type": "markdown",
   "id": "cdb03d36-b2e4-4d1b-98bb-b7ae97b5beb4",
   "metadata": {},
   "source": [
    "# Data format"
   ]
  },
  {
   "cell_type": "code",
   "execution_count": 7,
   "id": "3511a603-a5f0-4881-a39d-55e750191046",
   "metadata": {},
   "outputs": [
    {
     "data": {
      "text/plain": [
       "Index(['code', 'url', 'creator', 'created_t', 'last_modified_t',\n",
       "       'product_name', 'abbreviated_product_name', 'generic_name', 'quantity',\n",
       "       'packaging', 'packaging_tags', 'packaging_text', 'brands',\n",
       "       'brands_tags', 'categories', 'categories_tags', 'origins',\n",
       "       'origins_tags', 'manufacturing_places', 'manufacturing_places_tags',\n",
       "       'labels', 'labels_tags', 'emb_codes', 'emb_codes_tags', 'cities',\n",
       "       'cities_tags', 'purchase_places', 'stores', 'countries',\n",
       "       'ingredients_text', 'allergens', 'allergens_tags', 'traces',\n",
       "       'traces_tags', 'serving_size', 'serving_quantity', 'no_nutriments',\n",
       "       'additives_n', 'additives_tags', 'ingredients_from_palm_oil_n',\n",
       "       'ingredients_from_palm_oil', 'ingredients_from_palm_oil_tags',\n",
       "       'ingredients_that_may_be_from_palm_oil_n',\n",
       "       'ingredients_that_may_be_from_palm_oil',\n",
       "       'ingredients_that_may_be_from_palm_oil_tags', 'nutriscore_score',\n",
       "       'nutriscore_grade', 'nova_group', 'pnns_groups_1', 'pnns_groups_2',\n",
       "       'states', 'brand_owner', 'ecoscore_score_fr', 'ecoscore_grade_fr',\n",
       "       'main_category', 'image_url', 'image_small_url', 'image_front_url',\n",
       "       'image_front_small_url', 'image_ingredients_url',\n",
       "       'image_ingredients_small_url', 'image_nutrition_url',\n",
       "       'image_nutrition_small_url', 'energy-kj_100g', 'energy-kcal_100g',\n",
       "       'energy_100g', 'energy-from-fat_100g', 'fat_100g', 'saturated-fat_100g',\n",
       "       '-butyric-acid_100g', '-caproic-acid_100g', '-caprylic-acid_100g',\n",
       "       '-capric-acid_100g', '-lauric-acid_100g', '-myristic-acid_100g',\n",
       "       '-palmitic-acid_100g', '-stearic-acid_100g', '-arachidic-acid_100g',\n",
       "       '-behenic-acid_100g', '-lignoceric-acid_100g', '-cerotic-acid_100g',\n",
       "       '-montanic-acid_100g', '-melissic-acid_100g',\n",
       "       'monounsaturated-fat_100g', 'polyunsaturated-fat_100g',\n",
       "       'omega-3-fat_100g', '-alpha-linolenic-acid_100g',\n",
       "       '-eicosapentaenoic-acid_100g', '-docosahexaenoic-acid_100g',\n",
       "       'omega-6-fat_100g', '-linoleic-acid_100g', '-arachidonic-acid_100g',\n",
       "       '-gamma-linolenic-acid_100g', '-dihomo-gamma-linolenic-acid_100g',\n",
       "       'omega-9-fat_100g', '-oleic-acid_100g', '-elaidic-acid_100g',\n",
       "       '-gondoic-acid_100g', '-mead-acid_100g', '-erucic-acid_100g'],\n",
       "      dtype='object')"
      ]
     },
     "execution_count": 7,
     "metadata": {},
     "output_type": "execute_result"
    }
   ],
   "source": [
    "data.columns[:100]"
   ]
  },
  {
   "cell_type": "code",
   "execution_count": 61,
   "id": "62e6b5bf-ffdf-419f-8241-08a5dc6728f2",
   "metadata": {},
   "outputs": [
    {
     "data": {
      "text/plain": [
       "2125"
      ]
     },
     "execution_count": 61,
     "metadata": {},
     "output_type": "execute_result"
    }
   ],
   "source": [
    "data[\"nutriscore_score\"].isna().sum()"
   ]
  },
  {
   "cell_type": "code",
   "execution_count": 41,
   "id": "9e2b4942-6479-4533-b7a0-a712084ddcb1",
   "metadata": {},
   "outputs": [
    {
     "data": {
      "text/plain": [
       "68765"
      ]
     },
     "execution_count": 41,
     "metadata": {},
     "output_type": "execute_result"
    }
   ],
   "source": [
    "temp = [a for a in data[\"categories\"]]\n",
    "temp= [str(a).split(\",\") for a in data[\"categories\"]]\n",
    "temp= [item for sublist in temp for item in sublist]\n",
    "len((temp))"
   ]
  },
  {
   "cell_type": "code",
   "execution_count": 8,
   "id": "74e335c5-455c-4f95-a24e-a7e151730e07",
   "metadata": {},
   "outputs": [
    {
     "data": {
      "text/plain": [
       "0"
      ]
     },
     "execution_count": 8,
     "metadata": {},
     "output_type": "execute_result"
    }
   ],
   "source": [
    "data.duplicated().sum()"
   ]
  },
  {
   "cell_type": "code",
   "execution_count": 13,
   "id": "e6cb4cd7-826e-41d6-8cc3-a1e856b44125",
   "metadata": {},
   "outputs": [
    {
     "data": {
      "text/plain": [
       "(9937, 174)"
      ]
     },
     "execution_count": 13,
     "metadata": {},
     "output_type": "execute_result"
    }
   ],
   "source": [
    "data.shape"
   ]
  },
  {
   "cell_type": "code",
   "execution_count": 6,
   "id": "4d65f48f-7bd0-4c47-91fb-fc0f437435c7",
   "metadata": {},
   "outputs": [
    {
     "data": {
      "text/plain": [
       "code                     0\n",
       "url                      0\n",
       "creator                  0\n",
       "created_t                0\n",
       "last_modified_t          0\n",
       "                      ... \n",
       "choline_100g          9935\n",
       "phylloquinone_100g    9937\n",
       "beta-glucan_100g      9936\n",
       "inositol_100g         9935\n",
       "carnitine_100g        9937\n",
       "Length: 174, dtype: int64"
      ]
     },
     "execution_count": 6,
     "metadata": {},
     "output_type": "execute_result"
    }
   ],
   "source": [
    "data.isna().sum()"
   ]
  },
  {
   "cell_type": "markdown",
   "id": "b0970207-beeb-41ee-a6fe-bf1df98dfafe",
   "metadata": {},
   "source": [
    "# Data cleaning"
   ]
  },
  {
   "cell_type": "code",
   "execution_count": 87,
   "id": "6e175a1c-7da4-4ba5-bcd7-cd28d0442cee",
   "metadata": {},
   "outputs": [],
   "source": [
    "from sklearn.preprocessing import MinMaxScaler\n",
    "\n",
    "def find_category_mappings(df, variable):\n",
    "    return {k: i for i, k in enumerate(df[variable].dropna().unique(), 0)}\n",
    "\n",
    "def integer_encode(df , variable, ordinal_mapping):\n",
    "    df[variable] = df[variable].map(ordinal_mapping)\n",
    "    \n",
    "def imputation(df1 , cols):\n",
    "    mappin = dict()\n",
    "    mm = MinMaxScaler()\n",
    "    df = df1.copy()\n",
    "    #Encoding dict &amp; Removing nan    \n",
    "    #mappin = dict()\n",
    "    for variable in cols:\n",
    "        mappings = find_category_mappings(df, variable)\n",
    "        mappin[variable] = mappings\n",
    "\n",
    "    #Apply mapping\n",
    "    for variable in cols:\n",
    "        integer_encode(df, variable, mappin[variable])  \n",
    "\n",
    "    #Minmaxscaler and KNN imputation \n",
    "    sca = mm.fit_transform(df)\n",
    "    knn_imputer = KNNImputer()\n",
    "    knn = knn_imputer.fit_transform(sca)\n",
    "    df.iloc[:,:] = mm.inverse_transform(knn)\n",
    "    for i in df.columns : \n",
    "        df[i] = round(df[i]).astype('int')\n",
    "\n",
    "    #Inverse transform\n",
    "    for i in cols:\n",
    "        inv_map = {v: k for k, v in mappin[i].items()}\n",
    "        df[i] = df[i].map(inv_map)\n",
    "    return df"
   ]
  },
  {
   "cell_type": "code",
   "execution_count": 113,
   "id": "47a469fd-20fc-4f9b-ae39-c7f7e57c23f4",
   "metadata": {},
   "outputs": [
    {
     "name": "stdout",
     "output_type": "stream",
     "text": [
      "<class 'pandas.core.frame.DataFrame'>\n",
      "RangeIndex: 9937 entries, 0 to 9936\n",
      "Data columns (total 83 columns):\n",
      " #   Column                                          Non-Null Count  Dtype  \n",
      "---  ------                                          --------------  -----  \n",
      " 0   code                                            9937 non-null   int64  \n",
      " 1   product_name                                    9915 non-null   object \n",
      " 2   generic_name                                    5612 non-null   object \n",
      " 3   pnns_groups_1                                   9397 non-null   object \n",
      " 4   pnns_groups_2                                   9937 non-null   object \n",
      " 5   additives_n                                     9937 non-null   float64\n",
      " 6   packaging_tags                                  9818 non-null   object \n",
      " 7   brands_tags                                     9885 non-null   object \n",
      " 8   categories_tags                                 9887 non-null   object \n",
      " 9   origins_tags                                    9937 non-null   object \n",
      " 10  manufacturing_places_tags                       9937 non-null   object \n",
      " 11  labels_tags                                     8827 non-null   object \n",
      " 12  emb_codes_tags                                  6119 non-null   object \n",
      " 13  cities_tags                                     5838 non-null   object \n",
      " 14  allergens_tags                                  5574 non-null   object \n",
      " 15  nutriscore_score                                9937 non-null   float64\n",
      " 16  energy-kcal_100g                                9937 non-null   float64\n",
      " 17  energy_100g                                     9937 non-null   float64\n",
      " 18  fat_100g                                        9937 non-null   float64\n",
      " 19  saturated-fat_100g                              9937 non-null   float64\n",
      " 20  carbohydrates_100g                              9937 non-null   float64\n",
      " 21  sugars_100g                                     9937 non-null   float64\n",
      " 22  proteins_100g                                   9937 non-null   float64\n",
      " 23  salt_100g                                       9937 non-null   float64\n",
      " 24  sodium_100g                                     9937 non-null   float64\n",
      " 25  nutrition-score-fr_100g                         9937 non-null   float64\n",
      " 26  provided_nutriscore                             9937 non-null   int64  \n",
      " 27  pnns_groups_1_Beverages                         9937 non-null   float64\n",
      " 28  pnns_groups_1_Cereals and potatoes              9937 non-null   float64\n",
      " 29  pnns_groups_1_Composite foods                   9937 non-null   float64\n",
      " 30  pnns_groups_1_Fat and sauces                    9937 non-null   float64\n",
      " 31  pnns_groups_1_Fish Meat Eggs                    9937 non-null   float64\n",
      " 32  pnns_groups_1_Fruits and vegetables             9937 non-null   float64\n",
      " 33  pnns_groups_1_Milk and dairy products           9937 non-null   float64\n",
      " 34  pnns_groups_1_Salty snacks                      9937 non-null   float64\n",
      " 35  pnns_groups_1_Sugary snacks                     9937 non-null   float64\n",
      " 36  pnns_groups_1_cereals-and-potatoes              9937 non-null   float64\n",
      " 37  pnns_groups_1_fruits-and-vegetables             9937 non-null   float64\n",
      " 38  pnns_groups_1_sugary-snacks                     9937 non-null   float64\n",
      " 39  pnns_groups_1_unknown                           9937 non-null   float64\n",
      " 40  pnns_groups_2_Alcoholic beverages               9937 non-null   float64\n",
      " 41  pnns_groups_2_Appetizers                        9937 non-null   float64\n",
      " 42  pnns_groups_2_Artificially sweetened beverages  9937 non-null   float64\n",
      " 43  pnns_groups_2_Biscuits and cakes                9937 non-null   float64\n",
      " 44  pnns_groups_2_Bread                             9937 non-null   float64\n",
      " 45  pnns_groups_2_Breakfast cereals                 9937 non-null   float64\n",
      " 46  pnns_groups_2_Cereals                           9937 non-null   float64\n",
      " 47  pnns_groups_2_Cheese                            9937 non-null   float64\n",
      " 48  pnns_groups_2_Chocolate products                9937 non-null   float64\n",
      " 49  pnns_groups_2_Dairy desserts                    9937 non-null   float64\n",
      " 50  pnns_groups_2_Dressings and sauces              9937 non-null   float64\n",
      " 51  pnns_groups_2_Dried fruits                      9937 non-null   float64\n",
      " 52  pnns_groups_2_Eggs                              9937 non-null   float64\n",
      " 53  pnns_groups_2_Fats                              9937 non-null   float64\n",
      " 54  pnns_groups_2_Fish and seafood                  9937 non-null   float64\n",
      " 55  pnns_groups_2_Fruit juices                      9937 non-null   float64\n",
      " 56  pnns_groups_2_Fruit nectars                     9937 non-null   float64\n",
      " 57  pnns_groups_2_Fruits                            9937 non-null   float64\n",
      " 58  pnns_groups_2_Ice cream                         9937 non-null   float64\n",
      " 59  pnns_groups_2_Legumes                           9937 non-null   float64\n",
      " 60  pnns_groups_2_Meat                              9937 non-null   float64\n",
      " 61  pnns_groups_2_Milk and yogurt                   9937 non-null   float64\n",
      " 62  pnns_groups_2_Nuts                              9937 non-null   float64\n",
      " 63  pnns_groups_2_Offals                            9937 non-null   float64\n",
      " 64  pnns_groups_2_One-dish meals                    9937 non-null   float64\n",
      " 65  pnns_groups_2_Pizza pies and quiche             9937 non-null   float64\n",
      " 66  pnns_groups_2_Pizza pies and quiches            9937 non-null   float64\n",
      " 67  pnns_groups_2_Plant-based milk substitutes      9937 non-null   float64\n",
      " 68  pnns_groups_2_Potatoes                          9937 non-null   float64\n",
      " 69  pnns_groups_2_Processed meat                    9937 non-null   float64\n",
      " 70  pnns_groups_2_Salty and fatty products          9937 non-null   float64\n",
      " 71  pnns_groups_2_Sandwiches                        9937 non-null   float64\n",
      " 72  pnns_groups_2_Soups                             9937 non-null   float64\n",
      " 73  pnns_groups_2_Sweetened beverages               9937 non-null   float64\n",
      " 74  pnns_groups_2_Sweets                            9937 non-null   float64\n",
      " 75  pnns_groups_2_Unsweetened beverages             9937 non-null   float64\n",
      " 76  pnns_groups_2_Vegetables                        9937 non-null   float64\n",
      " 77  pnns_groups_2_Waters and flavored waters        9937 non-null   float64\n",
      " 78  pnns_groups_2_fruits                            9937 non-null   float64\n",
      " 79  pnns_groups_2_legumes                           9937 non-null   float64\n",
      " 80  pnns_groups_2_pastries                          9937 non-null   float64\n",
      " 81  pnns_groups_2_unknown                           9937 non-null   float64\n",
      " 82  pnns_groups_2_vegetables                        9937 non-null   float64\n",
      "dtypes: float64(68), int64(2), object(13)\n",
      "memory usage: 6.3+ MB\n"
     ]
    }
   ],
   "source": [
    "def cleaning_data(data,threshold=0.5):\n",
    "    data=data.dropna(axis=1,thresh=(data.shape)[0]*threshold)\n",
    "    \n",
    "    clean_data=data[[\"code\",\"product_name\",\"generic_name\",\"pnns_groups_1\",\"pnns_groups_2\",\"additives_n\"]]\n",
    "    for a in data.columns:\n",
    "        if \"100g\" in a:\n",
    "            clean_data[a]=data[a]\n",
    "        if \"tags\" in a:\n",
    "            clean_data[a]=data[a]\n",
    "        if \"_score\" in a:\n",
    "            clean_data[a]=data[a]\n",
    "    \n",
    "    clean_data[\"provided_nutriscore\"]=clean_data[\"nutriscore_score\"].isna().astype(int).map({0:1,1:0})\n",
    "    \n",
    "    dummies=pd.get_dummies(clean_data[[\"pnns_groups_1\",\"pnns_groups_2\"]])\n",
    "    clean_data[dummies.columns]=dummies\n",
    "    \n",
    "    quant_columns=[\"additives_n\",\"nutriscore_score\",\"energy-kcal_100g\",\"energy_100g\",\"fat_100g\",\"saturated-fat_100g\",\"carbohydrates_100g\",\n",
    "                       \"sugars_100g\",\"proteins_100g\",\"salt_100g\",\"sodium_100g\",\"nutrition-score-fr_100g\"] + list(dummies.columns)\n",
    "    quant_data=clean_data[quant_columns]\n",
    "    imp=KNNImputer()\n",
    "    quant_data=pd.DataFrame(imp.fit_transform(quant_data),columns=quant_columns)\n",
    "    for a in quant_columns:\n",
    "        clean_data[a]=quant_data[a]\n",
    "    \n",
    "    clean_data[\"additives_n\"]=clean_data[\"additives_n\"].round()\n",
    "        \n",
    "        \n",
    "    return clean_data\n",
    "\n",
    "\n",
    "clean_data=cleaning_data(data,threshold=0.5)\n",
    "clean_data.info()"
   ]
  },
  {
   "cell_type": "markdown",
   "id": "b577a241-3b2e-446c-ab5a-d9b4a7c7b93e",
   "metadata": {},
   "source": [
    "# Saved data"
   ]
  },
  {
   "cell_type": "code",
   "execution_count": 114,
   "id": "702392ec-0b25-4301-b5ca-dc56a78431e9",
   "metadata": {},
   "outputs": [],
   "source": [
    "import pickle\n",
    "\n",
    "with open(\"cleaned_data.pkl\",\"wb\") as f:\n",
    "    pickle.dump(clean_data,f)"
   ]
  }
 ],
 "metadata": {
  "kernelspec": {
   "display_name": "Python 3",
   "language": "python",
   "name": "python3"
  },
  "language_info": {
   "codemirror_mode": {
    "name": "ipython",
    "version": 3
   },
   "file_extension": ".py",
   "mimetype": "text/x-python",
   "name": "python",
   "nbconvert_exporter": "python",
   "pygments_lexer": "ipython3",
   "version": "3.7.6"
  }
 },
 "nbformat": 4,
 "nbformat_minor": 5
}
